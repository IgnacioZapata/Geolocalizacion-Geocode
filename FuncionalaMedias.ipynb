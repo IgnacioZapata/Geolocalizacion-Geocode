{
 "cells": [
  {
   "cell_type": "code",
   "execution_count": 8,
   "metadata": {},
   "outputs": [
    {
     "name": "stdout",
     "output_type": "stream",
     "text": [
      "(32.4373472, -117.0289833)\n",
      "(-33.4436898461538, -70.7592503153846)\n"
     ]
    }
   ],
   "source": [
    "#enconding: utf-8\n",
    "#Importación de los modulos a utilizar Nominatim para geolocalización, csv para trabajo en Excel.\n",
    "#Y shutil para crear copia de excel.\n",
    "from geopy.geocoders import Nominatim\n",
    "import csv\n",
    "import shutil\n",
    " \n",
    "#Se abre el archivo direccion.csv y se genera una copia llamada coordenadas.csv\n",
    "archivo = open('direccion.csv', 'rb')\n",
    "shutil.copyfile(\"direccion.csv\",\"coordenadas.csv\")\n",
    " \n",
    "#Creamos una lista vacía donde almacenaremos las direcciones y las localizaciones.\n",
    "ListaDirecciones = []\n",
    "ListaLocalizaciones = []\n",
    " \n",
    "#Utilizamos la función reader para leer el contenido del csv \n",
    "#cuyas columnas están delimitadas por el tabulador\n",
    "csv_direccion = csv.reader(archivo, delimiter=\";\")\n",
    "\n",
    "#Vamos leyendo la primera columna de cada fila del csv \n",
    "#y añadiendo la dirección a la lista.\n",
    "for fila in csv_direccion:\n",
    "   ListaDirecciones.append(fila[0])\n",
    "\n",
    "archivo.close()\n",
    "\n",
    "#Creamos un objeto llamado geolocalizador a partir de la clase Nominatim().\n",
    "geolocalizador = Nominatim()\n",
    " \n",
    "#Para cada dirección almacenada en ListaDirecciones pedimos al servicios de \n",
    "#geocodificación de Nominatim que nos devuelva su coordenada y \n",
    "#le añadimos la latitud y longitud a ListaLocalizaciones\n",
    "for val in ListaDirecciones:\n",
    "   direccion = geolocalizador.geocode([val], timeout=150)\n",
    "   ListaLocalizaciones.append((direccion.latitude, direccion.longitude))\n",
    " \n",
    "#Creamos una cabecera para nuestro nuevo csv\n",
    "cabecera = ['DIRECCION','COORDENADAS']\n",
    " \n",
    "#Abrimos de nuevo el archivo original y guardamos todos los datos en la variable 'datos'. Finalmente cerramos el archivo.\n",
    "archivo = open('direccion.csv')\n",
    "datos = [item for item in csv.reader(archivo, delimiter=';')]\n",
    "archivo.close()\n",
    " \n",
    "#Creamos una nueva lista llamada 'nuevos_datos'\n",
    "actualizacion = []\n",
    " \n",
    "#Para cada item en la lista 'datos' añadimos sus cordenadas almacenadas en la lista 'localizacion'. Finalmente incorporamos todo el conjunto a la lista 'nuevos_datos'.\n",
    "for i, item in enumerate(datos):\n",
    "    item.append(ListaLocalizaciones[i])\n",
    "    print ListaLocalizaciones[i]\n",
    "    actualizacion.append(item)\n",
    " \n",
    "#Abrimos el archivo procesado.csv que habíamos creado y \n",
    "#le asignamos una variable. El parámetro wb indica que queremos escribir. \n",
    "#Añadimos una cabecera seguido de las filas con cada uno de los datos almacenados en la lista.\n",
    "#Cerramos el archivo.\n",
    "archivo = open('coordenadas.csv', 'wb')\n",
    "csv.writer(archivo, delimiter='\\t', lineterminator='\\n').writerow(cabecera)\n",
    "csv.writer(archivo, delimiter='\\t', lineterminator='\\n').writerows(actualizacion)\n",
    "archivo.close()"
   ]
  },
  {
   "cell_type": "code",
   "execution_count": null,
   "metadata": {},
   "outputs": [],
   "source": []
  }
 ],
 "metadata": {
  "kernelspec": {
   "display_name": "Python 2",
   "language": "python",
   "name": "python2"
  },
  "language_info": {
   "codemirror_mode": {
    "name": "ipython",
    "version": 2
   },
   "file_extension": ".py",
   "mimetype": "text/x-python",
   "name": "python",
   "nbconvert_exporter": "python",
   "pygments_lexer": "ipython2",
   "version": "2.7.15"
  }
 },
 "nbformat": 4,
 "nbformat_minor": 2
}
